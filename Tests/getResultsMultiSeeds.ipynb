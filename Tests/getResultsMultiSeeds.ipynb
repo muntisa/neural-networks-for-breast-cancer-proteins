{
 "cells": [
  {
   "cell_type": "markdown",
   "metadata": {},
   "source": [
    "# Get results from Undersampling with multiple seeds"
   ]
  },
  {
   "cell_type": "code",
   "execution_count": 2,
   "metadata": {},
   "outputs": [
    {
     "name": "stdout",
     "output_type": "stream",
     "text": [
      "Combined data saved to ./results/Mix_BreastCancer.m.bal_pool_8708_UnderBeforeSplit_combined.csv\n",
      "Total number of rows: 150\n",
      "Number of unique seeds: 50\n",
      "\n",
      "Averaged data saved to ./results/Mix_BreastCancer.m.bal_pool_8708_UnderBeforeSplit_averaged.csv\n",
      "Number of rows in averaged data: 50\n"
     ]
    }
   ],
   "source": [
    "import pandas as pd\n",
    "import glob\n",
    "import os\n",
    "\n",
    "# Define the path pattern for the input files\n",
    "input_pattern = './results/Mix_BreastCancer.m.bal_pool_8708_UnderBeforeSplit_seed*.csv'\n",
    "\n",
    "# List to store all dataframes\n",
    "all_dfs = []\n",
    "\n",
    "# Iterate through all matching files\n",
    "for file_path in glob.glob(input_pattern):\n",
    "    # Extract the seed number from the filename\n",
    "    seed = int(file_path.split('seed')[-1].split('.')[0])\n",
    "    \n",
    "    # Read the CSV file\n",
    "    df = pd.read_csv(file_path)\n",
    "    \n",
    "    # Add a SEED column\n",
    "    df['SEED'] = seed\n",
    "    \n",
    "    # Append to the list of dataframes\n",
    "    all_dfs.append(df)\n",
    "\n",
    "# Combine all dataframes\n",
    "combined_df = pd.concat(all_dfs, ignore_index=True)\n",
    "\n",
    "# Define the output file path for the combined data\n",
    "output_file = './results/Mix_BreastCancer.m.bal_pool_8708_UnderBeforeSplit_combined.csv'\n",
    "\n",
    "# Save the combined dataframe to a CSV file\n",
    "combined_df.to_csv(output_file, index=False)\n",
    "\n",
    "print(f\"Combined data saved to {output_file}\")\n",
    "print(f\"Total number of rows: {len(combined_df)}\")\n",
    "print(f\"Number of unique seeds: {combined_df['SEED'].nunique()}\")\n",
    "\n",
    "# Calculate averages for each seed\n",
    "# First, identify non-numeric columns (assuming 'SEED' and potentially others are non-numeric)\n",
    "non_numeric_cols = combined_df.select_dtypes(exclude=['number']).columns.tolist()\n",
    "numeric_cols = [col for col in combined_df.columns if col not in non_numeric_cols and col != 'SEED']\n",
    "\n",
    "# Group by SEED and calculate mean for numeric columns\n",
    "avg_df = combined_df.groupby('SEED')[numeric_cols].mean().reset_index()\n",
    "\n",
    "# Add back any non-numeric columns (except 'SEED') with mode values\n",
    "for col in non_numeric_cols:\n",
    "    if col != 'SEED':\n",
    "        mode_values = combined_df.groupby('SEED')[col].agg(lambda x: x.mode().iloc[0] if not x.mode().empty else None)\n",
    "        avg_df = avg_df.merge(mode_values, on='SEED')\n",
    "\n",
    "# Reorder columns to match original order\n",
    "avg_df = avg_df[['SEED'] + [col for col in combined_df.columns if col != 'SEED']]\n",
    "\n",
    "# Define the output file path for the averaged data\n",
    "avg_output_file = './results/Mix_BreastCancer.m.bal_pool_8708_UnderBeforeSplit_averaged.csv'\n",
    "\n",
    "# Save the averaged dataframe to a CSV file\n",
    "avg_df.to_csv(avg_output_file, index=False)\n",
    "\n",
    "print(f\"\\nAveraged data saved to {avg_output_file}\")\n",
    "print(f\"Number of rows in averaged data: {len(avg_df)}\")\n"
   ]
  },
  {
   "cell_type": "code",
   "execution_count": 3,
   "metadata": {},
   "outputs": [
    {
     "name": "stdout",
     "output_type": "stream",
     "text": [
      "MLP Average: 0.9745888125492513\n",
      "MLP Standard Deviation: 0.007884168908041625\n",
      "\n",
      "Columns in the dataset:\n",
      "NB, KNN, LDA, SVM linear, SVM, LR, MLP, DT, RF, XGB, GB, AdaB, Bagging, Dataset, folds, SEED\n",
      "\n",
      "Row with MLP value closest to average:\n",
      "NB            0.853059\n",
      "KNN           0.513741\n",
      "LDA           0.695922\n",
      "SVM linear     0.95789\n",
      "SVM           0.960106\n",
      "LR            0.959663\n",
      "MLP           0.974734\n",
      "DT            0.661791\n",
      "RF            0.876995\n",
      "XGB           0.704344\n",
      "GB            0.780585\n",
      "AdaB          0.739805\n",
      "Bagging       0.742908\n",
      "Dataset          Class\n",
      "folds                3\n",
      "SEED                43\n",
      "Name: 112, dtype: object\n"
     ]
    }
   ],
   "source": [
    "import pandas as pd\n",
    "import numpy as np\n",
    "\n",
    "# Read the averaged data\n",
    "avg_df = pd.read_csv('./results/Mix_BreastCancer.m.bal_pool_8708_UnderBeforeSplit_averaged.csv')\n",
    "\n",
    "# Calculate average and standard deviation for MLP column\n",
    "mlp_avg = avg_df['MLP'].mean()\n",
    "mlp_std = avg_df['MLP'].std()\n",
    "\n",
    "print(f\"MLP Average: {mlp_avg}\")\n",
    "print(f\"MLP Standard Deviation: {mlp_std}\")\n",
    "\n",
    "# Read the combined data\n",
    "combined_df = pd.read_csv('./results/Mix_BreastCancer.m.bal_pool_8708_UnderBeforeSplit_combined.csv')\n",
    "\n",
    "# Find the row with MLP value closest to the average\n",
    "closest_row = combined_df.loc[(combined_df['MLP'] - mlp_avg).abs().idxmin()]\n",
    "\n",
    "print(\"\\nColumns in the dataset:\")\n",
    "print(\", \".join(combined_df.columns))\n",
    "\n",
    "print(\"\\nRow with MLP value closest to average:\")\n",
    "print(closest_row)"
   ]
  },
  {
   "cell_type": "code",
   "execution_count": null,
   "metadata": {},
   "outputs": [],
   "source": []
  }
 ],
 "metadata": {
  "kernelspec": {
   "display_name": "Python 3",
   "language": "python",
   "name": "python3"
  },
  "language_info": {
   "codemirror_mode": {
    "name": "ipython",
    "version": 3
   },
   "file_extension": ".py",
   "mimetype": "text/x-python",
   "name": "python",
   "nbconvert_exporter": "python",
   "pygments_lexer": "ipython3",
   "version": "3.7.6"
  }
 },
 "nbformat": 4,
 "nbformat_minor": 5
}
